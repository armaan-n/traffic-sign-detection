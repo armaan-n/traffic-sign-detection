{
 "cells": [
  {
   "cell_type": "code",
   "execution_count": 5,
   "id": "4a24561a",
   "metadata": {},
   "outputs": [],
   "source": [
    "import pandas as pd\n",
    "import numpy as np\n",
    "import tensorflow as tf\n",
    "from tensorflow import keras\n",
    "import re\n",
    "import imageio\n",
    "import cv2\n",
    "import matplotlib.pyplot as plt\n",
    "import os\n",
    "import yaml\n",
    "from sklearn.metrics import mean_squared_error, mean_absolute_error, accuracy_score"
   ]
  },
  {
   "cell_type": "markdown",
   "id": "0c8b35ab",
   "metadata": {},
   "source": [
    "# Settings"
   ]
  },
  {
   "cell_type": "code",
   "execution_count": 6,
   "id": "314d84e3",
   "metadata": {},
   "outputs": [],
   "source": [
    "train_path = './TrafficSignLocalizationandDetection/train'\n",
    "valid_path = './TrafficSignLocalizationandDetection/valid'\n",
    "test_path = './TrafficSignLocalizationandDetection/test'"
   ]
  },
  {
   "cell_type": "code",
   "execution_count": 7,
   "id": "3d40e7a6",
   "metadata": {},
   "outputs": [],
   "source": [
    "num_categories = 36"
   ]
  },
  {
   "cell_type": "code",
   "execution_count": 8,
   "id": "f1bbfcf4",
   "metadata": {},
   "outputs": [],
   "source": [
    "reduced_image_size = (208, 208)"
   ]
  },
  {
   "cell_type": "markdown",
   "id": "9899fd5a",
   "metadata": {},
   "source": [
    "# Preprocessing"
   ]
  },
  {
   "cell_type": "markdown",
   "id": "05fbec0c",
   "metadata": {},
   "source": [
    "## Create Data Frames For Loading Data"
   ]
  },
  {
   "cell_type": "code",
   "execution_count": 9,
   "id": "2d5622a4",
   "metadata": {},
   "outputs": [],
   "source": [
    "raw_train_labels = pd.DataFrame(np.zeros((0, 4 + num_categories)), \n",
    "                                columns=['x', 'y', 'w', 'h'] + list(range(1, num_categories + 1)))\n",
    "raw_train_images = []\n",
    "raw_test_labels = pd.DataFrame(np.zeros((0, 4 + num_categories)), \n",
    "                               columns=['x', 'y', 'w', 'h'] + list(range(1, num_categories + 1)))\n",
    "raw_test_images = []"
   ]
  },
  {
   "cell_type": "markdown",
   "id": "b2a6ff8b",
   "metadata": {},
   "source": [
    "## Resize And Denoise Images"
   ]
  },
  {
   "cell_type": "code",
   "execution_count": 24,
   "id": "5b0e3c96",
   "metadata": {},
   "outputs": [],
   "source": [
    "def load_images(path):\n",
    "    images = []\n",
    "    \n",
    "    for file in os.listdir(path):\n",
    "        filename = os.path.join(path, os.fsdecode(file))\n",
    "        image = cv2.imread(filename)\n",
    "        # takes a long time to denoise images, only run if you have a lot of time / \n",
    "        # extremely fast CPU\n",
    "        # image = cv2.fastNlMeansDenoisingColored(image, None, 10, 10, 7, 21) \n",
    "        image = cv2.resize(image, reduced_image_size)\n",
    "        images.append(image)\n",
    "    return np.array(images)"
   ]
  },
  {
   "cell_type": "markdown",
   "id": "ed225665",
   "metadata": {},
   "source": [
    "## Loading Images"
   ]
  },
  {
   "cell_type": "code",
   "execution_count": 23,
   "id": "07edaea3",
   "metadata": {},
   "outputs": [
    {
     "ename": "KeyboardInterrupt",
     "evalue": "",
     "output_type": "error",
     "traceback": [
      "\u001b[1;31m---------------------------------------------------------------------------\u001b[0m",
      "\u001b[1;31mKeyboardInterrupt\u001b[0m                         Traceback (most recent call last)",
      "Cell \u001b[1;32mIn[23], line 2\u001b[0m\n\u001b[0;32m      1\u001b[0m raw_train_images \u001b[38;5;241m=\u001b[39m np\u001b[38;5;241m.\u001b[39mconcatenate([\n\u001b[1;32m----> 2\u001b[0m     \u001b[43mload_images\u001b[49m\u001b[43m(\u001b[49m\u001b[43mos\u001b[49m\u001b[38;5;241;43m.\u001b[39;49m\u001b[43mpath\u001b[49m\u001b[38;5;241;43m.\u001b[39;49m\u001b[43mjoin\u001b[49m\u001b[43m(\u001b[49m\u001b[43mtrain_path\u001b[49m\u001b[43m,\u001b[49m\u001b[43m \u001b[49m\u001b[38;5;124;43m'\u001b[39;49m\u001b[38;5;124;43mimages\u001b[39;49m\u001b[38;5;124;43m'\u001b[39;49m\u001b[43m)\u001b[49m\u001b[43m)\u001b[49m,\n\u001b[0;32m      3\u001b[0m     load_images(os\u001b[38;5;241m.\u001b[39mpath\u001b[38;5;241m.\u001b[39mjoin(valid_path, \u001b[38;5;124m'\u001b[39m\u001b[38;5;124mimages\u001b[39m\u001b[38;5;124m'\u001b[39m)),\n\u001b[0;32m      4\u001b[0m ])\n\u001b[0;32m      5\u001b[0m raw_test_images \u001b[38;5;241m=\u001b[39m load_images(os\u001b[38;5;241m.\u001b[39mpath\u001b[38;5;241m.\u001b[39mjoin(test_path, \u001b[38;5;124m'\u001b[39m\u001b[38;5;124mimages\u001b[39m\u001b[38;5;124m'\u001b[39m))\n",
      "Cell \u001b[1;32mIn[22], line 7\u001b[0m, in \u001b[0;36mload_images\u001b[1;34m(path)\u001b[0m\n\u001b[0;32m      5\u001b[0m filename \u001b[38;5;241m=\u001b[39m os\u001b[38;5;241m.\u001b[39mpath\u001b[38;5;241m.\u001b[39mjoin(path, os\u001b[38;5;241m.\u001b[39mfsdecode(file))\n\u001b[0;32m      6\u001b[0m image \u001b[38;5;241m=\u001b[39m cv2\u001b[38;5;241m.\u001b[39mimread(filename)\n\u001b[1;32m----> 7\u001b[0m image \u001b[38;5;241m=\u001b[39m \u001b[43mcv2\u001b[49m\u001b[38;5;241;43m.\u001b[39;49m\u001b[43mfastNlMeansDenoisingColored\u001b[49m\u001b[43m(\u001b[49m\u001b[43mimage\u001b[49m\u001b[43m,\u001b[49m\u001b[43m \u001b[49m\u001b[38;5;28;43;01mNone\u001b[39;49;00m\u001b[43m,\u001b[49m\u001b[43m \u001b[49m\u001b[38;5;241;43m10\u001b[39;49m\u001b[43m,\u001b[49m\u001b[43m \u001b[49m\u001b[38;5;241;43m10\u001b[39;49m\u001b[43m,\u001b[49m\u001b[43m \u001b[49m\u001b[38;5;241;43m7\u001b[39;49m\u001b[43m,\u001b[49m\u001b[43m \u001b[49m\u001b[38;5;241;43m21\u001b[39;49m\u001b[43m)\u001b[49m \n\u001b[0;32m      8\u001b[0m image \u001b[38;5;241m=\u001b[39m cv2\u001b[38;5;241m.\u001b[39mresize(image, reduced_image_size)\n\u001b[0;32m      9\u001b[0m images\u001b[38;5;241m.\u001b[39mappend(image)\n",
      "\u001b[1;31mKeyboardInterrupt\u001b[0m: "
     ]
    }
   ],
   "source": [
    "raw_train_images = np.concatenate([\n",
    "    load_images(os.path.join(train_path, 'images')),\n",
    "    load_images(os.path.join(valid_path, 'images')),\n",
    "])\n",
    "raw_test_images = load_images(os.path.join(test_path, 'images'))"
   ]
  },
  {
   "cell_type": "code",
   "execution_count": 21,
   "id": "22da6371",
   "metadata": {},
   "outputs": [
    {
     "ename": "KeyboardInterrupt",
     "evalue": "",
     "output_type": "error",
     "traceback": [
      "\u001b[1;31m---------------------------------------------------------------------------\u001b[0m",
      "\u001b[1;31mKeyboardInterrupt\u001b[0m                         Traceback (most recent call last)",
      "Cell \u001b[1;32mIn[21], line 1\u001b[0m\n\u001b[1;32m----> 1\u001b[0m \u001b[43mload_images\u001b[49m\u001b[43m(\u001b[49m\u001b[43mos\u001b[49m\u001b[38;5;241;43m.\u001b[39;49m\u001b[43mpath\u001b[49m\u001b[38;5;241;43m.\u001b[39;49m\u001b[43mjoin\u001b[49m\u001b[43m(\u001b[49m\u001b[43mtrain_path\u001b[49m\u001b[43m,\u001b[49m\u001b[43m \u001b[49m\u001b[38;5;124;43m'\u001b[39;49m\u001b[38;5;124;43mimages\u001b[39;49m\u001b[38;5;124;43m'\u001b[39;49m\u001b[43m)\u001b[49m\u001b[43m)\u001b[49m\n",
      "Cell \u001b[1;32mIn[11], line 7\u001b[0m, in \u001b[0;36mload_images\u001b[1;34m(path)\u001b[0m\n\u001b[0;32m      5\u001b[0m filename \u001b[38;5;241m=\u001b[39m os\u001b[38;5;241m.\u001b[39mpath\u001b[38;5;241m.\u001b[39mjoin(path, os\u001b[38;5;241m.\u001b[39mfsdecode(file))\n\u001b[0;32m      6\u001b[0m image \u001b[38;5;241m=\u001b[39m cv2\u001b[38;5;241m.\u001b[39mimread(filename)\n\u001b[1;32m----> 7\u001b[0m image \u001b[38;5;241m=\u001b[39m \u001b[43mcv2\u001b[49m\u001b[38;5;241;43m.\u001b[39;49m\u001b[43mfastNlMeansDenoisingColored\u001b[49m\u001b[43m(\u001b[49m\u001b[43mimage\u001b[49m\u001b[43m,\u001b[49m\u001b[43m \u001b[49m\u001b[38;5;28;43;01mNone\u001b[39;49;00m\u001b[43m,\u001b[49m\u001b[43m \u001b[49m\u001b[38;5;241;43m10\u001b[39;49m\u001b[43m,\u001b[49m\u001b[43m \u001b[49m\u001b[38;5;241;43m7\u001b[39;49m\u001b[43m,\u001b[49m\u001b[43m \u001b[49m\u001b[38;5;241;43m21\u001b[39;49m\u001b[43m)\u001b[49m \n\u001b[0;32m      8\u001b[0m image \u001b[38;5;241m=\u001b[39m cv2\u001b[38;5;241m.\u001b[39mresize(image, reduced_image_size)\n\u001b[0;32m      9\u001b[0m images\u001b[38;5;241m.\u001b[39mappend(image)\n",
      "\u001b[1;31mKeyboardInterrupt\u001b[0m: "
     ]
    }
   ],
   "source": [
    "load_images(os.path.join(train_path, 'images'))"
   ]
  },
  {
   "cell_type": "markdown",
   "id": "f9c24670",
   "metadata": {},
   "source": [
    "## Read Labels From File"
   ]
  },
  {
   "cell_type": "code",
   "execution_count": 12,
   "id": "c3ac0052",
   "metadata": {},
   "outputs": [],
   "source": [
    "def load_labels(path):\n",
    "    labels = pd.DataFrame(np.zeros((0, 40)), columns=['x', 'y', 'w', 'h'] + list(range(1, 37)))\n",
    "    idx = 0\n",
    "\n",
    "    for file in os.listdir(path):\n",
    "        filename = os.path.join(path, os.fsdecode(file))\n",
    "        file_data = pd.read_csv(filename, sep=' ', header=None)\n",
    "        file_data.columns = ['cat', 'x', 'y', 'w', 'h']\n",
    "        cat = file_data['cat'][0]\n",
    "        new_inst = np.zeros((1, 40))\n",
    "        new_inst[0][0] = file_data['x'][0]\n",
    "        new_inst[0][1] = file_data['y'][0]\n",
    "        new_inst[0][2] = file_data['w'][0]\n",
    "        new_inst[0][3] = file_data['h'][0]\n",
    "        new_inst[0][file_data['cat'][0] + 3] = 1\n",
    "        labels = pd.concat([labels, \n",
    "                   pd.DataFrame((new_inst), columns=['x', 'y', 'w', 'h'] + list(range(1, 37)))\n",
    "                  ])\n",
    "    return labels"
   ]
  },
  {
   "cell_type": "markdown",
   "id": "bd609f7a",
   "metadata": {},
   "source": [
    "## Load Labels"
   ]
  },
  {
   "cell_type": "code",
   "execution_count": 13,
   "id": "9040c44b",
   "metadata": {},
   "outputs": [],
   "source": [
    "raw_train_labels = pd.concat([\n",
    "    load_labels(os.path.join(train_path, 'labels')),\n",
    "    load_labels(os.path.join(valid_path, 'labels')),\n",
    "])\n",
    "raw_test_labels = load_labels(os.path.join(test_path, 'labels'))"
   ]
  },
  {
   "cell_type": "markdown",
   "id": "d8655061",
   "metadata": {},
   "source": [
    "# Model Creation"
   ]
  },
  {
   "cell_type": "markdown",
   "id": "921640ae",
   "metadata": {},
   "source": [
    "## Creating The Model\n",
    "\n",
    "Implement the model as originally proposed by the Xception paper by Francois Chollet"
   ]
  },
  {
   "cell_type": "code",
   "execution_count": 15,
   "id": "9b74d8b4",
   "metadata": {},
   "outputs": [],
   "source": [
    "input_layer = keras.layers.Input(shape=[reduced_image_size[0], reduced_image_size[1], 3])\n",
    "\n",
    "conv_1 = keras.layers.Conv2D(32, (3,3), strides=(2,2), activation='relu')(input_layer)\n",
    "conv_2 = keras.layers.Conv2D(64, (3,3), activation='relu')(conv_1)\n",
    "drop_1 = keras.layers.Dropout(0.5)(conv_2)\n",
    "\n",
    "# channel 1/1\n",
    "conv_3 = keras.layers.Conv2D(128, (1,1), strides=(2,2), activation='relu', padding='same')(drop_1)\n",
    "# channel 1/2\n",
    "conv_4 = keras.layers.SeparableConv2D(128, (3,3), padding='same')(drop_1)\n",
    "conv_5 = keras.layers.SeparableConv2D(128, (3,3), activation='relu', padding='same')(conv_4)\n",
    "max_pool_1 = keras.layers.MaxPooling2D((3,3), strides=(2,2), padding='same')(conv_5)\n",
    "\n",
    "concat_1 = keras.layers.add([conv_3, max_pool_1])\n",
    "bn_2 = keras.layers.BatchNormalization()(concat_1)\n",
    "\n",
    "# channel 2/1\n",
    "conv_6 = keras.layers.Conv2D(128, (1,1), strides=(2,2), activation='relu', padding='same')(bn_2)\n",
    "# channel 2/2\n",
    "conv_7 = keras.layers.SeparableConv2D(128, (3,3), activation='relu', padding='same')(bn_2)\n",
    "conv_8 = keras.layers.SeparableConv2D(128, (3,3), activation='relu', padding='same')(conv_7)\n",
    "max_pool_2 = keras.layers.MaxPooling2D((3,3), strides=(2,2), padding='same')(conv_8)\n",
    "\n",
    "concat_2 = keras.layers.add([conv_6, max_pool_2])\n",
    "bn_3 = keras.layers.BatchNormalization()(concat_2)\n",
    "\n",
    "# channel 3/1\n",
    "conv_9 = keras.layers.Conv2D(128, (1,1), strides=(2,2), activation='relu', padding='same')(bn_3)\n",
    "# channel 3/2\n",
    "conv_10 = keras.layers.SeparableConv2D(128, (3,3), activation='relu', padding='same')(bn_3)\n",
    "conv_11 = keras.layers.SeparableConv2D(128, (3,3), activation='relu', padding='same')(conv_10)\n",
    "max_pool_3 = keras.layers.MaxPooling2D((3,3), strides=(2,2), padding='same')(conv_11)\n",
    "\n",
    "concat_3 = keras.layers.add([conv_9, max_pool_3])\n",
    "concat_3 = keras.layers.BatchNormalization()(concat_3)"
   ]
  },
  {
   "cell_type": "code",
   "execution_count": 16,
   "id": "11107998",
   "metadata": {},
   "outputs": [],
   "source": [
    "for i in range(8):\n",
    "    conv_12 = keras.layers.SeparableConv2D(128, (3,3), activation='relu', padding='same')(concat_3)\n",
    "    conv_13 = keras.layers.SeparableConv2D(128, (3,3), activation='relu', padding='same')(conv_12)\n",
    "    conv_14 = keras.layers.SeparableConv2D(128, (3,3), activation='relu', padding='same')(conv_13)\n",
    "    concat_3 = keras.layers.add([concat_3, conv_14])"
   ]
  },
  {
   "cell_type": "code",
   "execution_count": 17,
   "id": "e1dd81ae",
   "metadata": {},
   "outputs": [],
   "source": [
    "# channel 4/1\n",
    "conv_15 = keras.layers.Conv2D(1024, (1,1), (2,2))(concat_3)\n",
    "# channel 4/2\n",
    "conv_16 = keras.layers.SeparableConv2D(728, (3,3), activation='relu', padding='same')(concat_3)\n",
    "conv_17 = keras.layers.SeparableConv2D(1024, (3,3), activation='relu', padding='same')(conv_16)\n",
    "max_pool_4 = keras.layers.MaxPooling2D((3,3), strides=(2,2), padding='same')(conv_17)\n",
    "\n",
    "concat_4 = keras.layers.add([conv_15, max_pool_4])\n",
    "\n",
    "conv_18 = keras.layers.SeparableConv2D(1536, (3,3), activation='relu', padding='same')(concat_4)\n",
    "conv_19 = keras.layers.SeparableConv2D(2048, (3,3), activation='relu', padding='same')(conv_18)\n",
    "avg_pool = keras.layers.GlobalAveragePooling2D()(conv_19)\n",
    "\n",
    "dense_1 = keras.layers.Dense(128, activation='relu')(avg_pool)\n",
    "dense_2 = keras.layers.Dense(128, activation='relu')(dense_1)\n",
    "dense_3 = keras.layers.Dense(128)(dense_2)\n",
    "\n",
    "class_output = keras.layers.Dense(num_categories, activation=\"softmax\")(dense_3)\n",
    "\n",
    "concat_5 = keras.layers.concatenate([dense_3, class_output])\n",
    "\n",
    "loc_output = keras.layers.Dense(4)(concat_5)"
   ]
  },
  {
   "cell_type": "code",
   "execution_count": 18,
   "id": "92239934",
   "metadata": {
    "scrolled": false
   },
   "outputs": [
    {
     "name": "stdout",
     "output_type": "stream",
     "text": [
      "Model: \"model\"\n",
      "__________________________________________________________________________________________________\n",
      " Layer (type)                   Output Shape         Param #     Connected to                     \n",
      "==================================================================================================\n",
      " input_2 (InputLayer)           [(None, 208, 208, 3  0           []                               \n",
      "                                )]                                                                \n",
      "                                                                                                  \n",
      " conv2d_5 (Conv2D)              (None, 103, 103, 32  896         ['input_2[0][0]']                \n",
      "                                )                                                                 \n",
      "                                                                                                  \n",
      " conv2d_6 (Conv2D)              (None, 101, 101, 64  18496       ['conv2d_5[0][0]']               \n",
      "                                )                                                                 \n",
      "                                                                                                  \n",
      " dropout_1 (Dropout)            (None, 101, 101, 64  0           ['conv2d_6[0][0]']               \n",
      "                                )                                                                 \n",
      "                                                                                                  \n",
      " separable_conv2d_6 (SeparableC  (None, 101, 101, 12  8896       ['dropout_1[0][0]']              \n",
      " onv2D)                         8)                                                                \n",
      "                                                                                                  \n",
      " separable_conv2d_7 (SeparableC  (None, 101, 101, 12  17664      ['separable_conv2d_6[0][0]']     \n",
      " onv2D)                         8)                                                                \n",
      "                                                                                                  \n",
      " conv2d_7 (Conv2D)              (None, 51, 51, 128)  8320        ['dropout_1[0][0]']              \n",
      "                                                                                                  \n",
      " max_pooling2d_3 (MaxPooling2D)  (None, 51, 51, 128)  0          ['separable_conv2d_7[0][0]']     \n",
      "                                                                                                  \n",
      " add_3 (Add)                    (None, 51, 51, 128)  0           ['conv2d_7[0][0]',               \n",
      "                                                                  'max_pooling2d_3[0][0]']        \n",
      "                                                                                                  \n",
      " batch_normalization_3 (BatchNo  (None, 51, 51, 128)  512        ['add_3[0][0]']                  \n",
      " rmalization)                                                                                     \n",
      "                                                                                                  \n",
      " separable_conv2d_8 (SeparableC  (None, 51, 51, 128)  17664      ['batch_normalization_3[0][0]']  \n",
      " onv2D)                                                                                           \n",
      "                                                                                                  \n",
      " separable_conv2d_9 (SeparableC  (None, 51, 51, 128)  17664      ['separable_conv2d_8[0][0]']     \n",
      " onv2D)                                                                                           \n",
      "                                                                                                  \n",
      " conv2d_8 (Conv2D)              (None, 26, 26, 128)  16512       ['batch_normalization_3[0][0]']  \n",
      "                                                                                                  \n",
      " max_pooling2d_4 (MaxPooling2D)  (None, 26, 26, 128)  0          ['separable_conv2d_9[0][0]']     \n",
      "                                                                                                  \n",
      " add_4 (Add)                    (None, 26, 26, 128)  0           ['conv2d_8[0][0]',               \n",
      "                                                                  'max_pooling2d_4[0][0]']        \n",
      "                                                                                                  \n",
      " batch_normalization_4 (BatchNo  (None, 26, 26, 128)  512        ['add_4[0][0]']                  \n",
      " rmalization)                                                                                     \n",
      "                                                                                                  \n",
      " separable_conv2d_10 (Separable  (None, 26, 26, 128)  17664      ['batch_normalization_4[0][0]']  \n",
      " Conv2D)                                                                                          \n",
      "                                                                                                  \n",
      " separable_conv2d_11 (Separable  (None, 26, 26, 128)  17664      ['separable_conv2d_10[0][0]']    \n",
      " Conv2D)                                                                                          \n",
      "                                                                                                  \n",
      " conv2d_9 (Conv2D)              (None, 13, 13, 128)  16512       ['batch_normalization_4[0][0]']  \n",
      "                                                                                                  \n",
      " max_pooling2d_5 (MaxPooling2D)  (None, 13, 13, 128)  0          ['separable_conv2d_11[0][0]']    \n",
      "                                                                                                  \n",
      " add_5 (Add)                    (None, 13, 13, 128)  0           ['conv2d_9[0][0]',               \n",
      "                                                                  'max_pooling2d_5[0][0]']        \n",
      "                                                                                                  \n",
      " batch_normalization_5 (BatchNo  (None, 13, 13, 128)  512        ['add_5[0][0]']                  \n",
      " rmalization)                                                                                     \n",
      "                                                                                                  \n",
      " separable_conv2d_12 (Separable  (None, 13, 13, 128)  17664      ['batch_normalization_5[0][0]']  \n",
      " Conv2D)                                                                                          \n",
      "                                                                                                  \n",
      " separable_conv2d_13 (Separable  (None, 13, 13, 128)  17664      ['separable_conv2d_12[0][0]']    \n",
      " Conv2D)                                                                                          \n",
      "                                                                                                  \n",
      " separable_conv2d_14 (Separable  (None, 13, 13, 128)  17664      ['separable_conv2d_13[0][0]']    \n",
      " Conv2D)                                                                                          \n",
      "                                                                                                  \n",
      " add_6 (Add)                    (None, 13, 13, 128)  0           ['batch_normalization_5[0][0]',  \n",
      "                                                                  'separable_conv2d_14[0][0]']    \n",
      "                                                                                                  \n",
      " separable_conv2d_15 (Separable  (None, 13, 13, 128)  17664      ['add_6[0][0]']                  \n",
      " Conv2D)                                                                                          \n",
      "                                                                                                  \n",
      " separable_conv2d_16 (Separable  (None, 13, 13, 128)  17664      ['separable_conv2d_15[0][0]']    \n",
      " Conv2D)                                                                                          \n",
      "                                                                                                  \n",
      " separable_conv2d_17 (Separable  (None, 13, 13, 128)  17664      ['separable_conv2d_16[0][0]']    \n",
      " Conv2D)                                                                                          \n"
     ]
    },
    {
     "name": "stdout",
     "output_type": "stream",
     "text": [
      "                                                                                                  \n",
      " add_7 (Add)                    (None, 13, 13, 128)  0           ['add_6[0][0]',                  \n",
      "                                                                  'separable_conv2d_17[0][0]']    \n",
      "                                                                                                  \n",
      " separable_conv2d_18 (Separable  (None, 13, 13, 128)  17664      ['add_7[0][0]']                  \n",
      " Conv2D)                                                                                          \n",
      "                                                                                                  \n",
      " separable_conv2d_19 (Separable  (None, 13, 13, 128)  17664      ['separable_conv2d_18[0][0]']    \n",
      " Conv2D)                                                                                          \n",
      "                                                                                                  \n",
      " separable_conv2d_20 (Separable  (None, 13, 13, 128)  17664      ['separable_conv2d_19[0][0]']    \n",
      " Conv2D)                                                                                          \n",
      "                                                                                                  \n",
      " add_8 (Add)                    (None, 13, 13, 128)  0           ['add_7[0][0]',                  \n",
      "                                                                  'separable_conv2d_20[0][0]']    \n",
      "                                                                                                  \n",
      " separable_conv2d_21 (Separable  (None, 13, 13, 128)  17664      ['add_8[0][0]']                  \n",
      " Conv2D)                                                                                          \n",
      "                                                                                                  \n",
      " separable_conv2d_22 (Separable  (None, 13, 13, 128)  17664      ['separable_conv2d_21[0][0]']    \n",
      " Conv2D)                                                                                          \n",
      "                                                                                                  \n",
      " separable_conv2d_23 (Separable  (None, 13, 13, 128)  17664      ['separable_conv2d_22[0][0]']    \n",
      " Conv2D)                                                                                          \n",
      "                                                                                                  \n",
      " add_9 (Add)                    (None, 13, 13, 128)  0           ['add_8[0][0]',                  \n",
      "                                                                  'separable_conv2d_23[0][0]']    \n",
      "                                                                                                  \n",
      " separable_conv2d_24 (Separable  (None, 13, 13, 128)  17664      ['add_9[0][0]']                  \n",
      " Conv2D)                                                                                          \n",
      "                                                                                                  \n",
      " separable_conv2d_25 (Separable  (None, 13, 13, 128)  17664      ['separable_conv2d_24[0][0]']    \n",
      " Conv2D)                                                                                          \n",
      "                                                                                                  \n",
      " separable_conv2d_26 (Separable  (None, 13, 13, 128)  17664      ['separable_conv2d_25[0][0]']    \n",
      " Conv2D)                                                                                          \n",
      "                                                                                                  \n",
      " add_10 (Add)                   (None, 13, 13, 128)  0           ['add_9[0][0]',                  \n",
      "                                                                  'separable_conv2d_26[0][0]']    \n",
      "                                                                                                  \n",
      " separable_conv2d_27 (Separable  (None, 13, 13, 128)  17664      ['add_10[0][0]']                 \n",
      " Conv2D)                                                                                          \n",
      "                                                                                                  \n",
      " separable_conv2d_28 (Separable  (None, 13, 13, 128)  17664      ['separable_conv2d_27[0][0]']    \n",
      " Conv2D)                                                                                          \n",
      "                                                                                                  \n",
      " separable_conv2d_29 (Separable  (None, 13, 13, 128)  17664      ['separable_conv2d_28[0][0]']    \n",
      " Conv2D)                                                                                          \n",
      "                                                                                                  \n",
      " add_11 (Add)                   (None, 13, 13, 128)  0           ['add_10[0][0]',                 \n",
      "                                                                  'separable_conv2d_29[0][0]']    \n",
      "                                                                                                  \n",
      " separable_conv2d_30 (Separable  (None, 13, 13, 128)  17664      ['add_11[0][0]']                 \n",
      " Conv2D)                                                                                          \n",
      "                                                                                                  \n",
      " separable_conv2d_31 (Separable  (None, 13, 13, 128)  17664      ['separable_conv2d_30[0][0]']    \n",
      " Conv2D)                                                                                          \n",
      "                                                                                                  \n",
      " separable_conv2d_32 (Separable  (None, 13, 13, 128)  17664      ['separable_conv2d_31[0][0]']    \n",
      " Conv2D)                                                                                          \n",
      "                                                                                                  \n",
      " add_12 (Add)                   (None, 13, 13, 128)  0           ['add_11[0][0]',                 \n",
      "                                                                  'separable_conv2d_32[0][0]']    \n",
      "                                                                                                  \n",
      " separable_conv2d_33 (Separable  (None, 13, 13, 128)  17664      ['add_12[0][0]']                 \n",
      " Conv2D)                                                                                          \n",
      "                                                                                                  \n",
      " separable_conv2d_34 (Separable  (None, 13, 13, 128)  17664      ['separable_conv2d_33[0][0]']    \n",
      " Conv2D)                                                                                          \n",
      "                                                                                                  \n",
      " separable_conv2d_35 (Separable  (None, 13, 13, 128)  17664      ['separable_conv2d_34[0][0]']    \n",
      " Conv2D)                                                                                          \n",
      "                                                                                                  \n",
      " add_13 (Add)                   (None, 13, 13, 128)  0           ['add_12[0][0]',                 \n",
      "                                                                  'separable_conv2d_35[0][0]']    \n",
      "                                                                                                  \n",
      " separable_conv2d_36 (Separable  (None, 13, 13, 728)  95064      ['add_13[0][0]']                 \n",
      " Conv2D)                                                                                          \n",
      "                                                                                                  \n",
      " separable_conv2d_37 (Separable  (None, 13, 13, 1024  753048     ['separable_conv2d_36[0][0]']    \n",
      " Conv2D)                        )                                                                 \n",
      "                                                                                                  \n",
      " conv2d_10 (Conv2D)             (None, 7, 7, 1024)   132096      ['add_13[0][0]']                 \n"
     ]
    },
    {
     "name": "stdout",
     "output_type": "stream",
     "text": [
      "                                                                                                  \n",
      " max_pooling2d_6 (MaxPooling2D)  (None, 7, 7, 1024)  0           ['separable_conv2d_37[0][0]']    \n",
      "                                                                                                  \n",
      " add_14 (Add)                   (None, 7, 7, 1024)   0           ['conv2d_10[0][0]',              \n",
      "                                                                  'max_pooling2d_6[0][0]']        \n",
      "                                                                                                  \n",
      " separable_conv2d_38 (Separable  (None, 7, 7, 1536)  1583616     ['add_14[0][0]']                 \n",
      " Conv2D)                                                                                          \n",
      "                                                                                                  \n",
      " separable_conv2d_39 (Separable  (None, 7, 7, 2048)  3161600     ['separable_conv2d_38[0][0]']    \n",
      " Conv2D)                                                                                          \n",
      "                                                                                                  \n",
      " global_average_pooling2d (Glob  (None, 2048)        0           ['separable_conv2d_39[0][0]']    \n",
      " alAveragePooling2D)                                                                              \n",
      "                                                                                                  \n",
      " dense (Dense)                  (None, 128)          262272      ['global_average_pooling2d[0][0]'\n",
      "                                                                 ]                                \n",
      "                                                                                                  \n",
      " dense_1 (Dense)                (None, 128)          16512       ['dense[0][0]']                  \n",
      "                                                                                                  \n",
      " dense_2 (Dense)                (None, 128)          16512       ['dense_1[0][0]']                \n",
      "                                                                                                  \n",
      " dense_3 (Dense)                (None, 36)           4644        ['dense_2[0][0]']                \n",
      "                                                                                                  \n",
      " concatenate (Concatenate)      (None, 164)          0           ['dense_2[0][0]',                \n",
      "                                                                  'dense_3[0][0]']                \n",
      "                                                                                                  \n",
      " dense_4 (Dense)                (None, 4)            660         ['concatenate[0][0]']            \n",
      "                                                                                                  \n",
      "==================================================================================================\n",
      "Total params: 6,609,448\n",
      "Trainable params: 6,608,680\n",
      "Non-trainable params: 768\n",
      "__________________________________________________________________________________________________\n"
     ]
    }
   ],
   "source": [
    "model = keras.models.Model(inputs=input_layer, outputs=[loc_output, class_output])\n",
    "\n",
    "model.summary()"
   ]
  },
  {
   "cell_type": "markdown",
   "id": "77b347af",
   "metadata": {},
   "source": [
    "## Train the Model"
   ]
  },
  {
   "cell_type": "code",
   "execution_count": 19,
   "id": "a0756077",
   "metadata": {
    "scrolled": false
   },
   "outputs": [
    {
     "name": "stdout",
     "output_type": "stream",
     "text": [
      "Epoch 1/40\n"
     ]
    },
    {
     "ename": "ValueError",
     "evalue": "in user code:\n\n    File \"C:\\Users\\Armin\\anaconda3\\envs\\tfdml_plugin\\lib\\site-packages\\keras\\engine\\training.py\", line 1160, in train_function  *\n        return step_function(self, iterator)\n    File \"C:\\Users\\Armin\\anaconda3\\envs\\tfdml_plugin\\lib\\site-packages\\keras\\engine\\training.py\", line 1146, in step_function  **\n        outputs = model.distribute_strategy.run(run_step, args=(data,))\n    File \"C:\\Users\\Armin\\anaconda3\\envs\\tfdml_plugin\\lib\\site-packages\\keras\\engine\\training.py\", line 1135, in run_step  **\n        outputs = model.train_step(data)\n    File \"C:\\Users\\Armin\\anaconda3\\envs\\tfdml_plugin\\lib\\site-packages\\keras\\engine\\training.py\", line 993, in train_step\n        y_pred = self(x, training=True)\n    File \"C:\\Users\\Armin\\anaconda3\\envs\\tfdml_plugin\\lib\\site-packages\\keras\\utils\\traceback_utils.py\", line 70, in error_handler\n        raise e.with_traceback(filtered_tb) from None\n    File \"C:\\Users\\Armin\\anaconda3\\envs\\tfdml_plugin\\lib\\site-packages\\keras\\engine\\input_spec.py\", line 216, in assert_input_compatibility\n        raise ValueError(\n\n    ValueError: Layer \"model\" expects 1 input(s), but it received 0 input tensors. Inputs received: []\n",
     "output_type": "error",
     "traceback": [
      "\u001b[1;31m---------------------------------------------------------------------------\u001b[0m",
      "\u001b[1;31mValueError\u001b[0m                                Traceback (most recent call last)",
      "Cell \u001b[1;32mIn[19], line 4\u001b[0m\n\u001b[0;32m      1\u001b[0m model\u001b[38;5;241m.\u001b[39mcompile(loss\u001b[38;5;241m=\u001b[39m\u001b[38;5;124m\"\u001b[39m\u001b[38;5;124mmse\u001b[39m\u001b[38;5;124m\"\u001b[39m, \n\u001b[0;32m      2\u001b[0m               optimizer\u001b[38;5;241m=\u001b[39m\u001b[38;5;124m'\u001b[39m\u001b[38;5;124madam\u001b[39m\u001b[38;5;124m'\u001b[39m,\n\u001b[0;32m      3\u001b[0m               metrics\u001b[38;5;241m=\u001b[39m[\u001b[38;5;124m\"\u001b[39m\u001b[38;5;124mmse\u001b[39m\u001b[38;5;124m\"\u001b[39m, \u001b[38;5;124m\"\u001b[39m\u001b[38;5;124mcategorical_crossentropy\u001b[39m\u001b[38;5;124m\"\u001b[39m])\n\u001b[1;32m----> 4\u001b[0m \u001b[43mmodel\u001b[49m\u001b[38;5;241;43m.\u001b[39;49m\u001b[43mfit\u001b[49m\u001b[43m(\u001b[49m\u001b[43mraw_train_images\u001b[49m\u001b[43m,\u001b[49m\u001b[43m \u001b[49m\n\u001b[0;32m      5\u001b[0m \u001b[43m          \u001b[49m\u001b[43m[\u001b[49m\u001b[43mraw_train_labels\u001b[49m\u001b[38;5;241;43m.\u001b[39;49m\u001b[43miloc\u001b[49m\u001b[43m[\u001b[49m\u001b[43m:\u001b[49m\u001b[43m,\u001b[49m\u001b[43m:\u001b[49m\u001b[38;5;241;43m4\u001b[39;49m\u001b[43m]\u001b[49m\u001b[43m,\u001b[49m\u001b[43m \u001b[49m\u001b[43mraw_train_labels\u001b[49m\u001b[38;5;241;43m.\u001b[39;49m\u001b[43miloc\u001b[49m\u001b[43m[\u001b[49m\u001b[43m:\u001b[49m\u001b[43m,\u001b[49m\u001b[38;5;241;43m4\u001b[39;49m\u001b[43m:\u001b[49m\u001b[43m]\u001b[49m\u001b[43m]\u001b[49m\u001b[43m,\u001b[49m\n\u001b[0;32m      6\u001b[0m \u001b[43m          \u001b[49m\u001b[43mepochs\u001b[49m\u001b[38;5;241;43m=\u001b[39;49m\u001b[38;5;241;43m40\u001b[39;49m\u001b[43m,\u001b[49m\n\u001b[0;32m      7\u001b[0m \u001b[43m          \u001b[49m\u001b[43mvalidation_split\u001b[49m\u001b[38;5;241;43m=\u001b[39;49m\u001b[38;5;241;43m0.1\u001b[39;49m\u001b[43m,\u001b[49m\n\u001b[0;32m      8\u001b[0m \u001b[43m          \u001b[49m\u001b[43mverbose\u001b[49m\u001b[38;5;241;43m=\u001b[39;49m\u001b[38;5;241;43m1\u001b[39;49m\u001b[43m,\u001b[49m\n\u001b[0;32m      9\u001b[0m \u001b[43m         \u001b[49m\u001b[43m)\u001b[49m\n",
      "File \u001b[1;32m~\\anaconda3\\envs\\tfdml_plugin\\lib\\site-packages\\keras\\utils\\traceback_utils.py:70\u001b[0m, in \u001b[0;36mfilter_traceback.<locals>.error_handler\u001b[1;34m(*args, **kwargs)\u001b[0m\n\u001b[0;32m     67\u001b[0m     filtered_tb \u001b[38;5;241m=\u001b[39m _process_traceback_frames(e\u001b[38;5;241m.\u001b[39m__traceback__)\n\u001b[0;32m     68\u001b[0m     \u001b[38;5;66;03m# To get the full stack trace, call:\u001b[39;00m\n\u001b[0;32m     69\u001b[0m     \u001b[38;5;66;03m# `tf.debugging.disable_traceback_filtering()`\u001b[39;00m\n\u001b[1;32m---> 70\u001b[0m     \u001b[38;5;28;01mraise\u001b[39;00m e\u001b[38;5;241m.\u001b[39mwith_traceback(filtered_tb) \u001b[38;5;28;01mfrom\u001b[39;00m \u001b[38;5;28;01mNone\u001b[39;00m\n\u001b[0;32m     71\u001b[0m \u001b[38;5;28;01mfinally\u001b[39;00m:\n\u001b[0;32m     72\u001b[0m     \u001b[38;5;28;01mdel\u001b[39;00m filtered_tb\n",
      "File \u001b[1;32m~\\AppData\\Local\\Temp\\__autograph_generated_filetrbk044o.py:15\u001b[0m, in \u001b[0;36mouter_factory.<locals>.inner_factory.<locals>.tf__train_function\u001b[1;34m(iterator)\u001b[0m\n\u001b[0;32m     13\u001b[0m \u001b[38;5;28;01mtry\u001b[39;00m:\n\u001b[0;32m     14\u001b[0m     do_return \u001b[38;5;241m=\u001b[39m \u001b[38;5;28;01mTrue\u001b[39;00m\n\u001b[1;32m---> 15\u001b[0m     retval_ \u001b[38;5;241m=\u001b[39m ag__\u001b[38;5;241m.\u001b[39mconverted_call(ag__\u001b[38;5;241m.\u001b[39mld(step_function), (ag__\u001b[38;5;241m.\u001b[39mld(\u001b[38;5;28mself\u001b[39m), ag__\u001b[38;5;241m.\u001b[39mld(iterator)), \u001b[38;5;28;01mNone\u001b[39;00m, fscope)\n\u001b[0;32m     16\u001b[0m \u001b[38;5;28;01mexcept\u001b[39;00m:\n\u001b[0;32m     17\u001b[0m     do_return \u001b[38;5;241m=\u001b[39m \u001b[38;5;28;01mFalse\u001b[39;00m\n",
      "\u001b[1;31mValueError\u001b[0m: in user code:\n\n    File \"C:\\Users\\Armin\\anaconda3\\envs\\tfdml_plugin\\lib\\site-packages\\keras\\engine\\training.py\", line 1160, in train_function  *\n        return step_function(self, iterator)\n    File \"C:\\Users\\Armin\\anaconda3\\envs\\tfdml_plugin\\lib\\site-packages\\keras\\engine\\training.py\", line 1146, in step_function  **\n        outputs = model.distribute_strategy.run(run_step, args=(data,))\n    File \"C:\\Users\\Armin\\anaconda3\\envs\\tfdml_plugin\\lib\\site-packages\\keras\\engine\\training.py\", line 1135, in run_step  **\n        outputs = model.train_step(data)\n    File \"C:\\Users\\Armin\\anaconda3\\envs\\tfdml_plugin\\lib\\site-packages\\keras\\engine\\training.py\", line 993, in train_step\n        y_pred = self(x, training=True)\n    File \"C:\\Users\\Armin\\anaconda3\\envs\\tfdml_plugin\\lib\\site-packages\\keras\\utils\\traceback_utils.py\", line 70, in error_handler\n        raise e.with_traceback(filtered_tb) from None\n    File \"C:\\Users\\Armin\\anaconda3\\envs\\tfdml_plugin\\lib\\site-packages\\keras\\engine\\input_spec.py\", line 216, in assert_input_compatibility\n        raise ValueError(\n\n    ValueError: Layer \"model\" expects 1 input(s), but it received 0 input tensors. Inputs received: []\n"
     ]
    }
   ],
   "source": [
    "model.compile(loss=\"mse\", \n",
    "              optimizer='adam',\n",
    "              metrics=[\"mse\", \"categorical_crossentropy\"])\n",
    "model.fit(raw_train_images, \n",
    "          [raw_train_labels.iloc[:,:4], raw_train_labels.iloc[:,4:]],\n",
    "          epochs=40,\n",
    "          validation_split=0.1,\n",
    "          verbose=1,\n",
    "         )"
   ]
  },
  {
   "cell_type": "markdown",
   "id": "5f80c7c4",
   "metadata": {},
   "source": [
    "## Make Predictions"
   ]
  },
  {
   "cell_type": "code",
   "execution_count": null,
   "id": "73ff0ed2",
   "metadata": {},
   "outputs": [],
   "source": [
    "predictions_loc, predictions_class = model.predict(raw_test_images)\n",
    "predictions_loc = pd.DataFrame(predictions_loc, columns=['x', 'y', 'w', 'h'])\n",
    "predictions_class = pd.DataFrame(predictions_class, columns=list(range(1, 37)))"
   ]
  },
  {
   "cell_type": "code",
   "execution_count": null,
   "id": "51194073",
   "metadata": {},
   "outputs": [],
   "source": [
    "predictions_class"
   ]
  },
  {
   "cell_type": "markdown",
   "id": "9d562735",
   "metadata": {},
   "source": [
    "## Compute The IoU Score"
   ]
  },
  {
   "cell_type": "code",
   "execution_count": null,
   "id": "6d96a80c",
   "metadata": {},
   "outputs": [],
   "source": [
    "def intersection_over_union(prediction, actual):\n",
    "    center_x_pred = prediction[0]\n",
    "    center_y_pred = prediction[1]\n",
    "    width_pred = prediction[2]\n",
    "    height_pred = prediction[3]\n",
    "    start_point_pred = (center_x_pred - width_pred / 2, center_y_pred - height_pred / 2)\n",
    "    end_point_pred = (center_x_pred + width_pred / 2, center_y_pred + height_pred / 2)\n",
    "    \n",
    "    center_x_actual = actual[0]\n",
    "    center_y_actual = actual[1]\n",
    "    width_actual = actual[2]\n",
    "    height_actual = actual[3]\n",
    "    start_point_actual = (center_x_actual - width_actual / 2, center_y_actual - height_actual / 2)\n",
    "    end_point_actual = (center_x_actual + width_actual / 2, center_y_actual + height_actual / 2)\n",
    "    \n",
    "    # determine the (x, y)-coordinates of the intersection rectangle\n",
    "    xA = max(start_point_pred[0], start_point_actual[0])\n",
    "    yA = max(start_point_pred[1], start_point_actual[1])\n",
    "    xB = min(end_point_pred[0], end_point_pred[0])\n",
    "    yB = min(end_point_pred[1], end_point_pred[1])\n",
    "    \n",
    "    # compute the area of intersection rectangle\n",
    "    interArea = max(0, xB - xA) * max(0, yB - yA)\n",
    "    \n",
    "    # compute the area of both the prediction and ground-truth\n",
    "    # rectangles\n",
    "    boxAArea = width_pred * height_pred\n",
    "    boxBArea = width_actual * height_actual\n",
    "    \n",
    "    # compute the intersection over union by taking the intersection\n",
    "    # area and dividing it by the sum of prediction + ground-truth\n",
    "    # areas - the interesection area\n",
    "    iou = interArea / float(boxAArea + boxBArea - interArea)\n",
    "    \n",
    "    # return the intersection over union value\n",
    "    return iou"
   ]
  },
  {
   "cell_type": "markdown",
   "id": "09a0bd26",
   "metadata": {},
   "source": [
    "## Evaluate Model"
   ]
  },
  {
   "cell_type": "code",
   "execution_count": null,
   "id": "dbbf893e",
   "metadata": {},
   "outputs": [],
   "source": [
    "mean_absolute_error(predictions_loc, raw_test_labels.iloc[:,:4])"
   ]
  },
  {
   "cell_type": "code",
   "execution_count": null,
   "id": "d0eae7c0",
   "metadata": {},
   "outputs": [],
   "source": [
    "ious = list(map(intersection_over_union, predictions_loc.to_numpy(), \n",
    "         raw_test_labels.iloc[:,:4].to_numpy()\n",
    "        ))\n",
    "np.mean(ious)"
   ]
  },
  {
   "cell_type": "code",
   "execution_count": null,
   "id": "460dc983",
   "metadata": {},
   "outputs": [],
   "source": [
    "act_label = list(map(np.argmax, raw_test_labels.iloc[:,4:].to_numpy().tolist()))\n",
    "pred_label = list(map(np.argmax, predictions_class.to_numpy().tolist()))"
   ]
  },
  {
   "cell_type": "code",
   "execution_count": null,
   "id": "7e6d0cf4",
   "metadata": {},
   "outputs": [],
   "source": [
    "accuracy_score(act_label, pred_label)"
   ]
  },
  {
   "cell_type": "markdown",
   "id": "8d86f1f4",
   "metadata": {},
   "source": [
    "## Create System To Display Prediction Bounding Boxes"
   ]
  },
  {
   "cell_type": "code",
   "execution_count": null,
   "id": "b7c02f7f",
   "metadata": {},
   "outputs": [],
   "source": [
    "pred = 9\n",
    "center_x = predictions_loc['x'][pred]\n",
    "center_y = predictions_loc['y'][pred]\n",
    "width = predictions_loc['w'][pred]\n",
    "height = predictions_loc['h'][pred]\n",
    "start_point = (int((center_x - width / 2) * 208), int((center_y - height / 2) * 208))\n",
    "end_point = (int((center_x + width / 2) * 208), int((center_y + height / 2) * 208))\n",
    "color = (255, 0, 0)\n",
    "thickness = 2\n",
    "plt.imshow(cv2.rectangle(raw_test_images[pred], start_point, end_point, color, thickness))"
   ]
  },
  {
   "cell_type": "code",
   "execution_count": null,
   "id": "83fe12e7",
   "metadata": {},
   "outputs": [],
   "source": [
    "model.save('model.keras')"
   ]
  }
 ],
 "metadata": {
  "kernelspec": {
   "display_name": "tfdml_plugin",
   "language": "python",
   "name": "tfdml_plugin"
  },
  "language_info": {
   "codemirror_mode": {
    "name": "ipython",
    "version": 3
   },
   "file_extension": ".py",
   "mimetype": "text/x-python",
   "name": "python",
   "nbconvert_exporter": "python",
   "pygments_lexer": "ipython3",
   "version": "3.9.18"
  }
 },
 "nbformat": 4,
 "nbformat_minor": 5
}
